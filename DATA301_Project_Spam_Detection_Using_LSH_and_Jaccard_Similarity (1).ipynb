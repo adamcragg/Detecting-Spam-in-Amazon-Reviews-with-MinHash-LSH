{
  "cells": [
    {
      "cell_type": "markdown",
      "source": [
        "# 🧠 Spam Detection in Product Reviews using MinHash & Locality-Sensitive Hashing (LSH)\n",
        "\n",
        "This notebook explores the detection of near-duplicate and spammy Amazon reviews using Jaccard similarity, MinHashing, and LSH.\n"
      ],
      "metadata": {
        "id": "8FxiLd-pT2xQ"
      }
    },
    {
      "cell_type": "markdown",
      "metadata": {
        "id": "OmlI-uhUK_2I"
      },
      "source": [
        "# **Intro and Cleaning**\n",
        "This Notebook shows the work and progress towards my DATA301 project.\n",
        "\n",
        "This project uses DASK, a Python library for data streaming and parallel processing.\n",
        "\n",
        "This project involves taking a large amazon dataset of Beauty product reviews and using Min Hashing and LSH to efficiently find similar reviews. These are then compared via Jaccard set similarity. There are 2 ideas behind this.\n",
        "\n",
        "1. With a dataset this large, a naive approach of comparing every reviews would take too long. Instead, we create candidate pairs in O(N) time. These candidate pairs are then to be compared at a later date\n",
        "\n",
        "2. Candidate pairs can be examined for suspiciousness of spam. This might include the same user posting similarly worded reviews, low votes and a Non-verified-purchaser.\n",
        "\n",
        "\n",
        "\n",
        "\n"
      ]
    },
    {
      "cell_type": "markdown",
      "source": [
        "## Fetch the dataset:"
      ],
      "metadata": {
        "id": "OFSdRrByWWLS"
      }
    },
    {
      "cell_type": "code",
      "execution_count": 1,
      "metadata": {
        "colab": {
          "base_uri": "https://localhost:8080/"
        },
        "id": "ey7HWqTcvcOq",
        "outputId": "5d77025c-8edd-4b90-8904-80f20e271491"
      },
      "outputs": [
        {
          "output_type": "execute_result",
          "data": {
            "text/plain": [
              "('All_Beauty.jsonl', <http.client.HTTPMessage at 0x7ad6ec136390>)"
            ]
          },
          "metadata": {},
          "execution_count": 1
        }
      ],
      "source": [
        "import urllib.request\n",
        "\n",
        "#Get the file link using urllib.request\n",
        "filename = 'All_Beauty.jsonl'\n",
        "urllib.request.urlretrieve('https://mcauleylab.ucsd.edu/public_datasets/data/amazon_2023/raw/review_categories/All_Beauty.jsonl.gz', filename)\n"
      ]
    },
    {
      "cell_type": "markdown",
      "metadata": {
        "id": "cb56Sjxvxqgd"
      },
      "source": [
        "Convert the file from .gz to a jsonl file"
      ]
    },
    {
      "cell_type": "code",
      "execution_count": null,
      "metadata": {
        "id": "sePvBLtoxquh"
      },
      "outputs": [],
      "source": [
        "import gzip\n",
        "\n",
        "input_path = 'All_Beauty.jsonl'\n",
        "output_path = 'all_beauty.jsonl'\n",
        "\n",
        "with gzip.open(input_path, 'rb') as f_in:\n",
        "    with open(output_path, 'wb') as f_out:\n",
        "\n",
        "        f_out.write(f_in.read())\n"
      ]
    },
    {
      "cell_type": "code",
      "execution_count": null,
      "metadata": {
        "colab": {
          "base_uri": "https://localhost:8080/"
        },
        "id": "LOelXA490qWQ",
        "outputId": "ed1da989-4905-45d5-f70c-d0d41c7a17d8"
      },
      "outputs": [
        {
          "output_type": "stream",
          "name": "stdout",
          "text": [
            "{\"rating\": 5.0, \"title\": \"Such a lovely scent but not overpowering.\", \"text\": \"This spray is really nice. It smells really good, goes on really fine, and does the trick. I will say it feels like you need a lot of it though to get the texture I want. I have a lot of hair, medium thickness. I am comparing to other brands with yucky chemicals so I'm gonna stick with this. Try it!\", \"images\": [], \"asin\": \"B00YQ6X8EO\", \"parent_asin\": \"B00YQ6X8EO\", \"user_id\": \"AGKHLEW2SOWHNMFQIJGBECAF7INQ\", \"timestamp\": 1588687728923, \"helpful_vote\": 0, \"verified_purchase\": true}\n",
            "{\"rating\": 4.0, \"title\": \"Works great but smells a little weird.\", \"text\": \"This product does what I need it to do, I just wish it was odorless or had a soft coconut smell. Having my head smell like an orange coffee is offputting. (granted, I did know the smell was described but I was hoping it would be light)\", \"images\": [], \"asin\": \"B081TJ8YS3\", \"parent_asin\": \"B081TJ8YS3\", \"user_id\": \"AGKHLEW2SOWHNMFQIJGBECAF7INQ\", \"timestamp\": 1588615855070, \"helpful_vote\": 1, \"verified_purchase\": true}\n",
            "{\"rating\": 5.0, \"title\": \"Yes!\", \"text\": \"Smells good, feels great!\", \"images\": [], \"asin\": \"B07PNNCSP9\", \"parent_asin\": \"B097R46CSY\", \"user_id\": \"AE74DYR3QUGVPZJ3P7RFWBGIX7XQ\", \"timestamp\": 1589665266052, \"helpful_vote\": 2, \"verified_purchase\": true}\n",
            "{\"rating\": 1.0, \"title\": \"Synthetic feeling\", \"text\": \"Felt synthetic\", \"images\": [], \"asin\": \"B09JS339BZ\", \"parent_asin\": \"B09JS339BZ\", \"user_id\": \"AFQLNQNQYFWQZPJQZS6V3NZU4QBQ\", \"timestamp\": 1643393630220, \"helpful_vote\": 0, \"verified_purchase\": true}\n",
            "{\"rating\": 5.0, \"title\": \"A+\", \"text\": \"Love it\", \"images\": [], \"asin\": \"B08BZ63GMJ\", \"parent_asin\": \"B08BZ63GMJ\", \"user_id\": \"AFQLNQNQYFWQZPJQZS6V3NZU4QBQ\", \"timestamp\": 1609322563534, \"helpful_vote\": 0, \"verified_purchase\": true}\n",
            "{\"rating\": 4.0, \"title\": \"Pretty Color\", \"text\": \"The polish was quiet thick and did not apply smoothly. I let dry overnight before adding a second coat since it was so thick.\", \"images\": [{\"small_image_url\": \"https://images-na.ssl-images-amazon.com/images/I/71e9Noi7dJL._SL256_.jpg\", \"medium_image_url\": \"https://images-na.ssl-images-amazon.com/images/I/71e9Noi7dJL._SL800_.jpg\", \"large_image_url\": \"https://images-na.ssl-images-amazon.com/images/I/71e9Noi7dJL._SL1600_.jpg\", \"attachment_type\": \"IMAGE\"}], \"asin\": \"B00R8DXL44\", \"parent_asin\": \"B00R8DXL44\", \"user_id\": \"AGMJ3EMDVL6OWBJF7CA5RGJLXN5A\", \"timestamp\": 1598567408138, \"helpful_vote\": 0, \"verified_purchase\": true}\n",
            "{\"rating\": 5.0, \"title\": \"Handy\", \"text\": \"Great for many tasks.  I purchased these for makeup removal.  No makeup on your washcloths.  Disposable, so great for travel.  Soft.  Absorbant.\", \"images\": [], \"asin\": \"B099DRHW5V\", \"parent_asin\": \"B099DRHW5V\", \"user_id\": \"AHREXOGQPZDA6354MHH4ETSF3MCQ\", \"timestamp\": 1631885519443, \"helpful_vote\": 0, \"verified_purchase\": true}\n",
            "{\"rating\": 3.0, \"title\": \"Meh\", \"text\": \"These were lightweight and soft but much too small for my liking. I would have preferred two of these together to make one loc. For that reason I will not be repurchasing.\", \"images\": [{\"small_image_url\": \"https://m.media-amazon.com/images/I/81FN4c0VHzL._SL256_.jpg\", \"medium_image_url\": \"https://m.media-amazon.com/images/I/81FN4c0VHzL._SL800_.jpg\", \"large_image_url\": \"https://m.media-amazon.com/images/I/81FN4c0VHzL._SL1600_.jpg\", \"attachment_type\": \"IMAGE\"}], \"asin\": \"B088SZDGXG\", \"parent_asin\": \"B08BBQ29N5\", \"user_id\": \"AEYORY2AVPMCPDV57CE337YU5LXA\", \"timestamp\": 1634275259292, \"helpful_vote\": 0, \"verified_purchase\": true}\n",
            "{\"rating\": 5.0, \"title\": \"Great for at home use and so easy to use!\", \"text\": \"This is perfect for my between salon visits. I have been using this now twice a week for over a month and I absolutely love it! My skin looks amazing and feels super smooth and silky. This is also super easy to use (just follow instructions). I can see already that I will begin expanding the time between visits which will definitely help me save money in the long run. Highly recommend!\", \"images\": [], \"asin\": \"B08P2DZB4X\", \"parent_asin\": \"B08P2DZB4X\", \"user_id\": \"AFSKPY37N3C43SOI5IEXEK5JSIYA\", \"timestamp\": 1627391044559, \"helpful_vote\": 0, \"verified_purchase\": false}\n",
            "{\"rating\": 5.0, \"title\": \"Nice shampoo for the money\", \"text\": \"I get Keratin treatments at the salon at least 3-4 times a year (would do it more often if I could afford it). I am always in the market to use products that can help extend my salon visits. This Keratin shampoo is really nice. It is sulfate free (which is the first thing I look for ) and makes my hair feel silky smooth and soft. I highly recommend for anyone who wants to improve the texture and appearance of your hair. I really like the fragrance, too.\", \"images\": [], \"asin\": \"B086QY6T7N\", \"parent_asin\": \"B086QY6T7N\", \"user_id\": \"AFSKPY37N3C43SOI5IEXEK5JSIYA\", \"timestamp\": 1626614511145, \"helpful_vote\": 0, \"verified_purchase\": false}\n",
            "{\"rating\": 1.0, \"title\": \"One Star\", \"text\": \"Cant do anything with it. No Heat, cant get it wet, cuts look awkward. Dont buy for training purposes.\", \"images\": [], \"asin\": \"B01HO3M2II\", \"parent_asin\": \"B01HO3M2II\", \"user_id\": \"AF35ZHUHDHWFRMSP2BBRCTGBUMYA\", \"timestamp\": 1524255451799, \"helpful_vote\": 0, \"verified_purchase\": true}\n",
            "{\"rating\": 1.0, \"title\": \"One Star\", \"text\": \"Cant do anything with it. No Heat, cant get it wet, cuts look awkward. Dont buy for training purposes.\", \"images\": [], \"asin\": \"B01HO3M2II\", \"parent_asin\": \"B01HO3M2II\", \"user_id\": \"AF35ZHUHDHWFRMSP2BBRCTGBUMYA\", \"timestamp\": 1524255451799, \"helpful_vote\": 0, \"verified_purchase\": true}\n",
            "{\"rating\": 5.0, \"title\": \"Perfect for everyone!\", \"text\": \"I was really looking for a great quality turban wrap I can wear when I don't have the energy to do my hair. These were PERFECT! They have great stretch, are easy to use, and perfect for beginners or experienced users. Highly recommended! Never using an old T-shirt as a hair wrap ever again!\", \"images\": [], \"asin\": \"B08BRBS9QH\", \"parent_asin\": \"B08F4Q8ZBR\", \"user_id\": \"AHYJKLK77B4NI5DICG4WOGNEPI2A\", \"timestamp\": 1652980095379, \"helpful_vote\": 0, \"verified_purchase\": true}\n",
            "{\"rating\": 5.0, \"title\": \"Perfect hair choice!!!!\", \"text\": \"Absolutely love!! It hold curls well. It dyed perfectly. Little to no tangling or shedding! Just five stars all around\", \"images\": [{\"small_image_url\": \"https://images-na.ssl-images-amazon.com/images/I/71KbVMbHeiL._SL256_.jpg\", \"medium_image_url\": \"https://images-na.ssl-images-amazon.com/images/I/71KbVMbHeiL._SL800_.jpg\", \"large_image_url\": \"https://images-na.ssl-images-amazon.com/images/I/71KbVMbHeiL._SL1600_.jpg\", \"attachment_type\": \"IMAGE\"}, {\"small_image_url\": \"https://images-na.ssl-images-amazon.com/images/I/71WGtdmYCVL._SL256_.jpg\", \"medium_image_url\": \"https://images-na.ssl-images-amazon.com/images/I/71WGtdmYCVL._SL800_.jpg\", \"large_image_url\": \"https://images-na.ssl-images-amazon.com/images/I/71WGtdmYCVL._SL1600_.jpg\", \"attachment_type\": \"IMAGE\"}, {\"small_image_url\": \"https://images-na.ssl-images-amazon.com/images/I/71zybs2u9qL._SL256_.jpg\", \"medium_image_url\": \"https://images-na.ssl-images-amazon.com/images/I/71zybs2u9qL._SL800_.jpg\", \"large_image_url\": \"https://images-na.ssl-images-amazon.com/images/I/71zybs2u9qL._SL1600_.jpg\", \"attachment_type\": \"IMAGE\"}], \"asin\": \"B00H1L4RAU\", \"parent_asin\": \"B00H1L4RAU\", \"user_id\": \"AHMU2NL2V6PT7KCAR6FNCM2GAYSA\", \"timestamp\": 1433552959000, \"helpful_vote\": 9, \"verified_purchase\": true}\n",
            "{\"rating\": 1.0, \"title\": \"I got a completely different bottle than this.\", \"text\": \"What I got was a completely different bottle than this one. The product feels watered down. It\\u2019s a Kera Care bottle, but I was Very unsatisfied and disappointed.\", \"images\": [], \"asin\": \"B00K21WP3M\", \"parent_asin\": \"B00K21WP3M\", \"user_id\": \"AGZIX3V6YHAG3JCUUUWY57FBO5OA\", \"timestamp\": 1586455368241, \"helpful_vote\": 0, \"verified_purchase\": true}\n",
            "{\"rating\": 4.0, \"title\": \"Four Stars\", \"text\": \"Conditioner is great  shampoo not as I expected\", \"images\": [], \"asin\": \"B006YUIWKA\", \"parent_asin\": \"B006YUIWKA\", \"user_id\": \"AFIXGFVEGLMOTMBTJL7H3VSIETDQ\", \"timestamp\": 1478227021000, \"helpful_vote\": 0, \"verified_purchase\": true}\n",
            "{\"rating\": 1.0, \"title\": \"Pretty\", \"text\": \"Did not work! Used the whole bottle and my hair feels thinner! Pretty disappointed\", \"images\": [], \"asin\": \"B006YUIWKA\", \"parent_asin\": \"B006YUIWKA\", \"user_id\": \"AFV7YZFOJF564EZGET5LG45K4QEA\", \"timestamp\": 1480908730000, \"helpful_vote\": 0, \"verified_purchase\": false}\n",
            "{\"rating\": 5.0, \"title\": \"Great sunless tanner\", \"text\": \"Product as expected. Shipping was on time.\", \"images\": [], \"asin\": \"B06ZZV9MZT\", \"parent_asin\": \"B06ZZV9MZT\", \"user_id\": \"AHYDCWDMMVMLBX7FY7M7JKADKRDQ\", \"timestamp\": 1590547974067, \"helpful_vote\": 0, \"verified_purchase\": true}\n",
            "{\"rating\": 5.0, \"title\": \"The Crown on top is a Ring!!!\", \"text\": \"Not only is it a delicious fragrance, but also a Crown Jewel to let everybody know what a Princess you are! This makes an awesome gift for a teenager- it's not too mature!\", \"images\": [], \"asin\": \"B000HB6VLE\", \"parent_asin\": \"B000HB6VLE\", \"user_id\": \"AF6ZIAEN7TQ2WY5ZL77F6JDPV7XQ\", \"timestamp\": 1184798209000, \"helpful_vote\": 4, \"verified_purchase\": false}\n",
            "{\"rating\": 4.0, \"title\": \"Good Shampoo/Conditioner\", \"text\": \"The conditioner doesn't really make your hair too soft like some other brands, which I prefer. Only thing that made me rate this a 4 was the conditioner leaked a little from the top even though it was taped securely. Other than that I recommend this shampoo/conditioner.\", \"images\": [], \"asin\": \"B0093MXHFG\", \"parent_asin\": \"B0093MXHFG\", \"user_id\": \"AGIYQU6RK6TBKBCMWKVPBPBMMJNA\", \"timestamp\": 1366944486000, \"helpful_vote\": 1, \"verified_purchase\": true}\n"
          ]
        }
      ],
      "source": [
        "#shows first 10 and last 10 reviews\n",
        "!head -10 'all_beauty.jsonl'\n",
        "!tail -10 'all_beauty.jsonl'\n"
      ]
    },
    {
      "cell_type": "code",
      "execution_count": null,
      "metadata": {
        "colab": {
          "base_uri": "https://localhost:8080/"
        },
        "id": "XyCqlyO54vUx",
        "outputId": "07246149-361b-4db7-9c81-63196a4796ab"
      },
      "outputs": [
        {
          "output_type": "stream",
          "name": "stdout",
          "text": [
            "701528\n"
          ]
        }
      ],
      "source": [
        "import dask\n",
        "import json\n",
        "from dask import bag as db\n",
        "from dask.bag import from_sequence\n",
        "\n",
        "\n",
        "data_bag = db.read_text('all_beauty.jsonl', blocksize=\"64MB\")\n",
        "print(f\"Number of records: {data_bag.count().compute()}\")\n",
        "parsed_bag = data_bag.map(json.loads)\n"
      ]
    },
    {
      "cell_type": "markdown",
      "metadata": {
        "id": "GGhHa8n4FN6f"
      },
      "source": [
        "Now we need to clean the bag somewhat by removing fields we don't want from the data. These include the following fields: \"images\", \"parent_asin\""
      ]
    },
    {
      "cell_type": "code",
      "execution_count": null,
      "metadata": {
        "colab": {
          "base_uri": "https://localhost:8080/"
        },
        "id": "4Fy-znUq1wVH",
        "outputId": "214df80b-1f5e-4715-cf43-6686b9f6683c"
      },
      "outputs": [
        {
          "output_type": "stream",
          "name": "stdout",
          "text": [
            "This spray is really nice. It smells really good, goes on really fine, and does the trick. I will say it feels like you need a lot of it though to get the texture I want. I have a lot of hair, medium thickness. I am comparing to other brands with yucky chemicals so I'm gonna stick with this. Try it! \n",
            "\n",
            "this spray is really nice it smells really good goes on really fine and does the trick i will say it feels like you need a lot of it though to get the texture i want i have a lot of hair medium thickness i am comparing to other brands with yucky chemicals so im gonna stick with this try it\n",
            "Bag size before: 701528\n",
            "Bag size after: 1000\n"
          ]
        }
      ],
      "source": [
        "import re\n",
        "\n",
        "fields_to_remove = {\"images\", \"parent_asin\"}  # example\n",
        "\n",
        "#function to drop keys\n",
        "def drop_keys(d):\n",
        "    return {k: v for k, v in d.items() if k not in fields_to_remove}\n",
        "\n",
        "#the function to remove punctuation, convert to lower case and normalise whitespace using re library, when presented with any text\n",
        "def preprocess(text):\n",
        "    text = text.lower()\n",
        "    text = re.sub(r\"[^\\w\\s]\", \"\", text)  # remove punctuation\n",
        "    text = re.sub(r\"\\s+\", \" \", text)     # normalize whitespace\n",
        "    return text.strip()\n",
        "\n",
        "#the function to be mapped to each record of the bag, calling the cleaning function above\n",
        "def preprocess_reviews(record):\n",
        "    record['text'] = preprocess(record['text'])\n",
        "    return record\n",
        "\n",
        "#apply the preprocessing functions to each record\n",
        "cleaned_bag = parsed_bag.map(drop_keys)\n",
        "print(cleaned_bag.take(1)[0]['text'],'\\n')\n",
        "cleaned_bag = cleaned_bag.map(preprocess_reviews)\n",
        "print(cleaned_bag.take(1)[0]['text'])\n",
        "\n",
        "#drop reviews with character count 10 or less\n",
        "print(f\"Bag size before: {cleaned_bag.count().compute()}\")\n",
        "cleaned_bag_large = cleaned_bag.filter(lambda x: len(x['text']) > 10)\n",
        "\n",
        "#THIS STEP IS IMPORTANT\n",
        "#my program is not optimised and I've made a mistake somewhere. It takes too long above 5000 records.\n",
        "#potentially Dask dataframes are daster than Dask bags.\n",
        "#\n",
        "#for proof of concept i only worked on 1000 entries\n",
        "\n",
        "first_1000_list = cleaned_bag_large.take(1000)\n",
        "cleaned_bag = from_sequence(first_1000_list, npartitions=1)\n",
        "print(f\"Bag size after: {cleaned_bag.count().compute()}\")"
      ]
    },
    {
      "cell_type": "markdown",
      "metadata": {
        "id": "kjrEc8NyJn2Y"
      },
      "source": [
        "# Shingling\n",
        "\n",
        "Now each record in the bag has been cleaned of the following:\n",
        "\n",
        "*   Uppercase characters\n",
        "*   Punctuation\n",
        "*   Uneven Whitespace\n",
        "*   Unnessecary fields i.e \"images\", \"parent_asin\", \"asin\"\n",
        "*   Entries with text length 1\n",
        "\n",
        "\n",
        "We can now start **step 1** of the text similarity analysis pipeline, K-shingling.\n",
        "I will be doing k=5 whole word shingles.\n",
        "\n",
        "Shingling involves breaking up a document into its subsequences of length k. A document such as \"ABABAC\" and K=2 will have the following set of shingles\n",
        "\n",
        "\"AB\" \"BA\" \"AB\" \"BA\" \"AC\"\n",
        "\n",
        "In a set:\n",
        "shingles = {AB, BA, AC}\n",
        "\n",
        "Think of shingling as a sliding window of size K that you use to extract the subsequences.\n",
        "For shorter documents k=5 is a good size window. For longer documents such as research papers, k=10 is recommended. This determines the sensitivity of patterns that it can capture and match later on.\n",
        "\n"
      ]
    },
    {
      "cell_type": "code",
      "execution_count": null,
      "metadata": {
        "colab": {
          "base_uri": "https://localhost:8080/"
        },
        "id": "F2-O-UnTJnlS",
        "outputId": "7af29165-d296-4190-fbd0-5062e5f00ea3"
      },
      "outputs": [
        {
          "output_type": "execute_result",
          "data": {
            "text/plain": [
              "{'a lot of hair medium',\n",
              " 'a lot of it though',\n",
              " 'am comparing to other brands',\n",
              " 'and does the trick i',\n",
              " 'brands with yucky chemicals so',\n",
              " 'chemicals so im gonna stick',\n",
              " 'comparing to other brands with',\n",
              " 'does the trick i will',\n",
              " 'feels like you need a',\n",
              " 'fine and does the trick',\n",
              " 'get the texture i want',\n",
              " 'goes on really fine and',\n",
              " 'gonna stick with this try',\n",
              " 'good goes on really fine',\n",
              " 'hair medium thickness i am',\n",
              " 'have a lot of hair',\n",
              " 'i am comparing to other',\n",
              " 'i have a lot of',\n",
              " 'i want i have a',\n",
              " 'i will say it feels',\n",
              " 'im gonna stick with this',\n",
              " 'is really nice it smells',\n",
              " 'it feels like you need',\n",
              " 'it smells really good goes',\n",
              " 'it though to get the',\n",
              " 'like you need a lot',\n",
              " 'lot of hair medium thickness',\n",
              " 'lot of it though to',\n",
              " 'medium thickness i am comparing',\n",
              " 'need a lot of it',\n",
              " 'nice it smells really good',\n",
              " 'of hair medium thickness i',\n",
              " 'of it though to get',\n",
              " 'on really fine and does',\n",
              " 'other brands with yucky chemicals',\n",
              " 'really fine and does the',\n",
              " 'really good goes on really',\n",
              " 'really nice it smells really',\n",
              " 'say it feels like you',\n",
              " 'smells really good goes on',\n",
              " 'so im gonna stick with',\n",
              " 'spray is really nice it',\n",
              " 'stick with this try it',\n",
              " 'texture i want i have',\n",
              " 'the texture i want i',\n",
              " 'the trick i will say',\n",
              " 'thickness i am comparing to',\n",
              " 'this spray is really nice',\n",
              " 'though to get the texture',\n",
              " 'to get the texture i',\n",
              " 'to other brands with yucky',\n",
              " 'trick i will say it',\n",
              " 'want i have a lot',\n",
              " 'will say it feels like',\n",
              " 'with yucky chemicals so im',\n",
              " 'you need a lot of',\n",
              " 'yucky chemicals so im gonna'}"
            ]
          },
          "metadata": {},
          "execution_count": 42
        }
      ],
      "source": [
        "#do word shingles of k=5\n",
        "k = 5\n",
        "\n",
        "def shingle_words(record):\n",
        "    words = record['text'].split()\n",
        "    shingles = set()\n",
        "    for i in range(len(words) - k + 1):\n",
        "        shingle = ' '.join(words[i:i+k])\n",
        "        shingles.add(shingle)\n",
        "    record['shingles'] = shingles\n",
        "    #return the whole record but with a new entry \"shingles\"\n",
        "    return record\n",
        "\n",
        "shingled_bag = cleaned_bag.map(shingle_words)\n",
        "#demonstrate the first record's shingle set\n",
        "shingled_bag.take(1)[0]['shingles']"
      ]
    },
    {
      "cell_type": "markdown",
      "metadata": {
        "id": "1eH-bbcaAaSw"
      },
      "source": [
        "# **Min Hashing**\n",
        "\n",
        "We are going to use a 3rd party Hash function and use a seed to generate 100 different functions. The basics are that each item in the shingle set will be hashed with many hash functions and then the minimum value will be picked.\n",
        "\n",
        "This step is performed to turn a document's shingle set into a signature vector of length N where N is the number of hash functions used. In standard pratice, N = 100\n",
        "\n",
        "This number influences the banding of the later step, LSH. The longer the signature vector, the more accurate the bucketing step will be later on, but the more computation it will require.\n",
        "\n"
      ]
    },
    {
      "cell_type": "code",
      "execution_count": null,
      "metadata": {
        "colab": {
          "base_uri": "https://localhost:8080/"
        },
        "id": "qqz5JLi7NVSd",
        "outputId": "1c80bd19-1490-4acf-c221-637f884698c2"
      },
      "outputs": [
        {
          "output_type": "stream",
          "name": "stdout",
          "text": [
            "Requirement already satisfied: mmh3 in /usr/local/lib/python3.11/dist-packages (5.1.0)\n",
            "[########################################] | 100% Completed | 14.69 s\n",
            "Total records with signatures: 1000\n",
            "Example sig vector\n",
            " [-2128973781, -1921489680, -1900302480, -2099459879, -2119527857, -2122446291, -2127011794, -2093912739, -2135496994, -1918403894, -2066117612, -2145018041, -1772127013, -1975024768, -1615207882, -2129322361, -2122461755, -2131976955, -1835286876, -1971634345, -2069826091, -2141020870, -2109728952, -2140331233, -2145386105, -2030280316, -1793076940, -2056931439, -1704716801, -1985774455, -1869549736, -1693639108, -2140931603, -2069267878, -1952146422, -1689178168, -2099388527, -2023076597, -2122305312, -2048062715, -2128164851, -1833430393, -1807661444, -1989749339, -1939270602, -1691338903, -1739606639, -1876942091, -2010881579, -1755320141, -1975586346, -2042176227, -2128711539, -2095664495, -2072737606, -2046038562, -2092319249, -1960776315, -2134971170, -1959027260, -2139958630, -2055847976, -1896848306, -2117248006, -1841799614, -2067022187, -2001408530, -1945321205, -1744729781, -2114238601, -2131893765, -1986346142, -2090222342, -1703630893, -2062938238, -2101505379, -1948001286, -1927216567, -1706275456, -2103494050, -1780378058, -1744578255, -2028130863, -1868670716, -2019488151, -2039104284, -1306252487, -1286294970, -2097326172, -2001433449, -1683333929, -2067718944, -2038981353, -1998766402, -2126076305, -2144109136, -1728798839, -2114187604, -2064980259, -2126038002]\n"
          ]
        }
      ],
      "source": [
        "\n",
        "!pip install mmh3\n",
        "import dask.bag as db\n",
        "import mmh3\n",
        "import numpy as np\n",
        "\n",
        "#generate 100 different hash functions manually using mmh3\n",
        "def hash_generator(seed):\n",
        "    return lambda x: mmh3.hash(x, seed)\n",
        "\n",
        "num_hashes = 100\n",
        "hash_functions = [hash_generator(seed) for seed in range(num_hashes)]\n",
        "\n",
        "#define the MinHash function\n",
        "def manual_minhash(record, max_shingles=500):\n",
        "    shingles = list(record['text'])[:max_shingles]  # limit shingles per record if large\n",
        "    signature = []\n",
        "\n",
        "    for h in hash_functions:\n",
        "        min_val = float('inf')\n",
        "        for s in shingles:\n",
        "            s_str = ' '.join(s)  # convert tuple to string\n",
        "            val = h(s_str)\n",
        "            if val < min_val:\n",
        "                min_val = val\n",
        "        signature.append(min_val)\n",
        "\n",
        "    record['sig'] = signature\n",
        "    return record\n",
        "\n",
        "#apply it to your the bag of shingles for each record\n",
        "# repartition to increase parallelism\n",
        "shingled_bag = shingled_bag.repartition(50)\n",
        "\n",
        "#map MinHash over the shingle bag\n",
        "sig_bag = shingled_bag.map(manual_minhash)\n",
        "\n",
        "\n",
        "from dask.diagnostics import ProgressBar\n",
        "with ProgressBar():\n",
        "    print(\"Total records with signatures:\", sig_bag.count().compute())\n",
        "\n",
        "print(\"Example sig vector\\n\",sig_bag.take(1)[0]['sig'])"
      ]
    },
    {
      "cell_type": "markdown",
      "metadata": {
        "id": "9xO2fHGAu023"
      },
      "source": [
        "# Locality Sensitive Hashing\n",
        "\n",
        "This is the third and final step of being able to group review/text documents. The first step was to shingle the reviews.\n",
        "The second step was to compute a unique signature for each shingle in order to reduce space and estimate...\n",
        "\n",
        "This last step is to sort the reviews into buckets where they have a similarity to other reviews in the buckets.\n",
        "\n",
        "This involves taking our signature vector for each review text and breaking them up into 'b' bands with r consecutive entries from the signature vector. For example:\n",
        "\n",
        "A review's text minhashes to the following vector (using 6 different hash functions)\n",
        "\n",
        "[10,45,99,13,65,84]\n",
        "\n",
        "And we divide it into 3 bands with row size 2 we get\n",
        "\n",
        "[10, 45]\n",
        "[99, 13]\n",
        "[65, 84]\n",
        "\n",
        "Once we have broken the signature vector up into this form, we need to hash each row. We store the results in a global dictionairy of the following form (its global because its not stored per record, might be a parallel computing dependancy/bottleneck??):\n",
        "\n",
        "LSD_dict[(band_index, band_hash)] = document_id\n",
        "\n",
        "So that we can retrieve the different documents that have matching hash values for any band\n",
        "\n",
        "\n",
        "\n"
      ]
    },
    {
      "cell_type": "code",
      "execution_count": null,
      "metadata": {
        "colab": {
          "base_uri": "https://localhost:8080/"
        },
        "id": "setsgzTTRW3b",
        "outputId": "b9e75ffe-2b1f-4557-eab5-5191c5c61fcd"
      },
      "outputs": [
        {
          "output_type": "stream",
          "name": "stdout",
          "text": [
            "[########################################] | 100% Completed | 20.51 s\n",
            "10000\n"
          ]
        }
      ],
      "source": [
        "import mmh3\n",
        "from itertools import combinations\n",
        "\n",
        "#split the signature vectors into bands\n",
        "def split_into_bands(record, b=10, r=10):\n",
        "\n",
        "    sig = record['sig']  # signature vector (list of ints)\n",
        "    doc_id = f\"{record['user_id']}_{record['timestamp']}\"\n",
        "    band_outputs = []\n",
        "\n",
        "    for i in range(b):\n",
        "        start = i * r\n",
        "        end = (i + 1) * r\n",
        "        band = tuple(sig[start:end])  # tuple to be hashable\n",
        "\n",
        "        # Convert band tuple to string and hash with mmh3 (32-bit unsigned)\n",
        "        band_str = ','.join(map(str, band))\n",
        "        band_hash = mmh3.hash(band_str, signed=False)\n",
        "\n",
        "        band_key = (i, band_hash)\n",
        "        band_outputs.append((band_key, doc_id))\n",
        "\n",
        "    return band_outputs\n",
        "\n",
        "#call the banding function on each record\n",
        "with ProgressBar():\n",
        "  bands = sig_bag.map(split_into_bands).flatten()\n",
        "  bands = bands.compute()\n",
        "print(len(bands))\n",
        "\n",
        "# time to bucket the items based on their band_key\n",
        "buckets = {}\n",
        "\n",
        "for band_key, doc_id in bands:\n",
        "    if band_key not in buckets:\n",
        "        buckets[band_key] = []\n",
        "    buckets[band_key].append(doc_id)\n",
        "\n",
        "\n",
        "\n"
      ]
    },
    {
      "cell_type": "markdown",
      "source": [
        "# Jaccard Similarity\n",
        "I now move onto the step where I check the buckets for high threshold matches using set similarity.\n",
        "\n",
        "The candidate pairs are useful because they are suggested similar documents.\n",
        "We only have to check this small subset of documents rather than EVERY document in the whole database.\n",
        "\n",
        "Jacard similarity uses the following formula to generate a score\n",
        "![jaccard.png](data:image/png;base64,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)\n"
      ],
      "metadata": {
        "id": "UaedHpsm96DQ"
      }
    },
    {
      "cell_type": "markdown",
      "source": [
        "Reviews that exceeded the threshold are put into a text file for later examination.\n",
        "\n",
        "A lot of the example are very high matches with the same user, but different timestamps and product codes. These feels suspiscious and can be flagged for further inspection.\n",
        "\n",
        "Time does currently not permit further processing. An example and analysis of a pair of reviews that exceeded the similarity threshold is shown below"
      ],
      "metadata": {
        "id": "UiyTmDV7-1n2"
      }
    },
    {
      "cell_type": "code",
      "source": [
        "# similarity threshold\n",
        "t = 0.8\n",
        "\n",
        "# turn into list of dicts\n",
        "shingled_records = shingled_bag.compute()\n",
        "\n",
        "# create lookup dictionaries\n",
        "shingle_lookup = {}\n",
        "asin_lookup = {}\n",
        "text_lookup = {}\n",
        "verified_lookup = {}\n",
        "helpful_lookup = {}\n",
        "\n",
        "#populate the lookup dicts\n",
        "#this is nessecary due to the way I have filtered my data in earlier steps. I should change this in future\n",
        "for record in shingled_records:\n",
        "    doc_id = f\"{record['user_id']}_{record['timestamp']}\"\n",
        "    shingle_lookup[doc_id] = record['shingles']\n",
        "    asin_lookup[doc_id] = record.get('asin', 'UNKNOWN_ASIN')\n",
        "    text_lookup[doc_id] = record.get('text', '')\n",
        "    verified_lookup[doc_id] = record.get('verified_purchase', False)  # default False if missing\n",
        "    helpful_lookup[doc_id] = record.get('helpful_vote', 0)  # default 0 if missing\n",
        "\n",
        "output_lines = []\n",
        "\n",
        "# loop through each LSH band bucket\n",
        "with ProgressBar():\n",
        "    for band_key, doc_ids in buckets.items():\n",
        "        if len(doc_ids) < 2:\n",
        "            continue  # no need to compare if only 1 document in the bucket\n",
        "\n",
        "        seen_pairs = set()  # to avoid double comparing the same pairs\n",
        "\n",
        "        # compare every pair inside this bucket\n",
        "        #this part is slow but better than comparing all records in the whole database\n",
        "        for doc1_id, doc2_id in combinations(set(doc_ids), 2):\n",
        "            if doc1_id == doc2_id:    #skip document pairs that are comparing the same document\n",
        "                continue\n",
        "\n",
        "            pair_key = tuple(sorted((doc1_id, doc2_id)))\n",
        "            if pair_key in seen_pairs:\n",
        "                continue  # skip if already compared\n",
        "            seen_pairs.add(pair_key)\n",
        "\n",
        "            #get shingle sets to perform jaccard similarity on\n",
        "            set1 = shingle_lookup[doc1_id]\n",
        "            set2 = shingle_lookup[doc2_id]\n",
        "\n",
        "            #using equation listed in textbox above\n",
        "            intersection = len(set1 & set2)\n",
        "            union = len(set1 | set2)\n",
        "            similarity = intersection / union if union else 0\n",
        "\n",
        "            if similarity > 0.65 and similarity < 1.0:\n",
        "                # if same product and 100% match, likely legit (skip)\n",
        "                if similarity == 1.0 and asin_lookup.get(doc1_id) == asin_lookup.get(doc2_id):\n",
        "                    continue\n",
        "\n",
        "                # suspicion score starts at 0\n",
        "                suspicion_score = 0\n",
        "\n",
        "                # +1 if either in the pair is not verified purchase\n",
        "                if not verified_lookup.get(doc1_id, False) or not verified_lookup.get(doc2_id, False):\n",
        "                    suspicion_score += 1\n",
        "\n",
        "                # +1 if either review has 1 or less helpful votes\n",
        "                if helpful_lookup.get(doc1_id, 0) <= 1 or helpful_lookup.get(doc2_id, 0) <= 1:\n",
        "                    suspicion_score += 1\n",
        "\n",
        "                # +1 if similarity is bigger than 0.95\n",
        "                if similarity > 0.95:\n",
        "                    suspicion_score += 1\n",
        "\n",
        "                # format the output nicely for analysis\n",
        "                #in the following format\n",
        "                #\n",
        "                #PAIR FOUND in band {band_key} with similarity {similarity:.3f} | Suspicion Score: {suspicion_score}\n",
        "                #\n",
        "                # doc1_id   |   product_id    |   verified_purchase    |    helpful_votes   |   band_key    |   similarity threshold    |\n",
        "                #doc1 text\n",
        "                #\n",
        "                # doc2_id   |   product_id    |   verified_purchase    |    helpful_votes   |   band_key    |   similarity threshold    |\n",
        "                #doc2 text\n",
        "                #\n",
        "                #\n",
        "\n",
        "\n",
        "                output_lines.append(f\"PAIR FOUND in band {band_key} with similarity {similarity:.3f} | Suspicion Score: {suspicion_score}\")\n",
        "                output_lines.append(f\"  ➤ {doc1_id} | ASIN: {asin_lookup.get(doc1_id)} | Verified Purchase: {verified_lookup.get(doc1_id)} | Helpful Votes: {helpful_lookup.get(doc1_id)} | Band: {band_key} | Sim: {similarity:.3f}\")\n",
        "                output_lines.append(f\"    Text: {text_lookup.get(doc1_id)[:500]}\")\n",
        "                output_lines.append(f\"  ➤ {doc2_id} | ASIN: {asin_lookup.get(doc2_id)} | Verified Purchase: {verified_lookup.get(doc2_id)} | Helpful Votes: {helpful_lookup.get(doc2_id)} | Band: {band_key} | Sim: {similarity:.3f}\")\n",
        "                output_lines.append(f\"    Text: {text_lookup.get(doc2_id)[:1000]}.....\")\n",
        "                output_lines.append(\"-\" * 60)\n",
        "\n",
        "# write results to file (this might be slow asf)\n",
        "with open('candidate_pairs_with_suspicion.txt', 'w') as f:\n",
        "    for line in output_lines:\n",
        "        f.write(line + '\\n')\n",
        "\n",
        "\n",
        "\n",
        "# done!\n",
        "print(f\"Finished writing {len(output_lines)//6} candidate pairs with suspicion scores to candidate_pairs_with_suspicion.txt\")"
      ],
      "metadata": {
        "id": "BufZh5fK974Y",
        "colab": {
          "base_uri": "https://localhost:8080/"
        },
        "outputId": "71d276d6-636e-4ef7-afb1-1ed9553e5c58"
      },
      "execution_count": null,
      "outputs": [
        {
          "output_type": "stream",
          "name": "stdout",
          "text": [
            "Finished writing 220 candidate pairs with suspicion scores to candidate_pairs_with_suspicion.txt\n"
          ]
        }
      ]
    },
    {
      "cell_type": "markdown",
      "source": [
        "# Example:\n",
        "Remember they are in the format:\n",
        "'''\n",
        "PAIR FOUND in band {band_key} with similarity {similarity:.3f} | Suspicion Score: {suspicion_score}\n",
        "                #\n",
        "                # doc1_id   |   product_id    |   verified_purchase    |    helpful_votes   |   band_key    |   similarity threshold    |\n",
        "                #doc1 text\n",
        "                #\n",
        "                # doc2_id   |   product_id    |   verified_purchase    |    helpful_votes   |   band_key    |   similarity threshold    |\n",
        "                #doc2 text\n",
        "                #\n",
        "                #\n",
        "'''\n",
        "\n",
        "----------------------------------------------------------\n",
        "PAIR FOUND in band (6, 2051538573) with similarity 0.905 | Suspicion Score: 2\n",
        "\n",
        "\n",
        "## Document 1\n",
        "  ➤ AGZZXSMMS4WRHHJRBUJZI4FZDHKQ_1583773994689 | ASIN: B082TSD9HN | Verified Purchase: False | Helpful Votes: 0 | Band: (6, 2051538573) | Sim: 0.905\n",
        "    \n",
        "    Text: these were so sparkly i really loved thesebr br these looked very pretty in my daughters hair they really stood out they looked just like the picture they went in and out easily they stayed in fairly well they were very pretty she liked them a lot they really made her look nice they would also look nice for pictures the quality was pretty decent it is nice that it is a set and you get a bunch i liked the variety i was happy and would recommend itbr they also helped keep her hair out of her face\n",
        "\n",
        "\n",
        "\n",
        "----------------------------------------------------------\n",
        "\n",
        "## Document 2\n",
        "  ➤ AGZZXSMMS4WRHHJRBUJZI4FZDHKQ_1579811989015 | ASIN: B0815TNMTL | Verified Purchase: False | Helpful Votes: 0 | Band: (6, 2051538573) | Sim: 0.905\n",
        "    \n",
        "    Text: these looked very pretty in my daughters hair they really stood out they looked just like the picture they went in and out easily they stayed in fairly well they were very pretty she liked them a lot they really made her look nice they would also look nice for pictures the quality was pretty decent it is nice that it is a set and you get a bunch i liked the variety i was happy and would recommend itbr they also helped keep her hair out of her face\n",
        "\n",
        "----------------------------------------------------------\n",
        "  You can see that these reviews were in the same bucket, by the same user, had different product codes, different timestamps and had about 90% of the same wording\n",
        "\n",
        "  This in combination with the lack of verfified purchase, no helpful votes and the identical format just reordered slightly, is indicative of spam or an error.\n",
        "\n",
        "  Reviews of this nature have been collected and put in a file\n",
        "\n",
        "  \"candidate_pairs_with_suspicion.txt\""
      ],
      "metadata": {
        "id": "RPyPHCGiAypx"
      }
    },
    {
      "cell_type": "code",
      "source": [],
      "metadata": {
        "id": "2lFs6ue5BpKz"
      },
      "execution_count": null,
      "outputs": []
    }
  ],
  "metadata": {
    "colab": {
      "provenance": []
    },
    "kernelspec": {
      "display_name": "Python 3",
      "name": "python3"
    },
    "language_info": {
      "name": "python"
    }
  },
  "nbformat": 4,
  "nbformat_minor": 0
}